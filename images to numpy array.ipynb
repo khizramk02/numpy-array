{
 "cells": [
  {
   "cell_type": "code",
   "execution_count": 29,
   "metadata": {},
   "outputs": [],
   "source": [
    "import numpy as np\n",
    "import matplotlib.pyplot as plt"
   ]
  },
  {
   "cell_type": "code",
   "execution_count": 30,
   "metadata": {},
   "outputs": [],
   "source": [
    "import os\n",
    "from PIL import Image"
   ]
  },
  {
   "cell_type": "code",
   "execution_count": 31,
   "metadata": {},
   "outputs": [],
   "source": [
    "arr = np.zeros(( 20, 200, 200, 3), dtype='int16')\n",
    "x = 0"
   ]
  },
  {
   "cell_type": "code",
   "execution_count": 32,
   "metadata": {},
   "outputs": [
    {
     "name": "stdout",
     "output_type": "stream",
     "text": [
      "Found directory: .\\photos\n"
     ]
    }
   ],
   "source": [
    "RootDir = '.\\photos'\n",
    "for dirName, subdirList, fileList in os.walk(RootDir):\n",
    "    print(f'Found directory: {dirName}')\n"
   ]
  },
  {
   "cell_type": "code",
   "execution_count": 33,
   "metadata": {},
   "outputs": [
    {
     "name": "stdout",
     "output_type": "stream",
     "text": [
      "\t1.jpg \tOriginal Size = (275, 183) \tResized into = (200, 200)\n",
      "\t10.jpg \tOriginal Size = (327, 154) \tResized into = (200, 200)\n",
      "\t11.jpg \tOriginal Size = (201, 251) \tResized into = (200, 200)\n",
      "\t12.jpg \tOriginal Size = (299, 168) \tResized into = (200, 200)\n",
      "\t13.jpg \tOriginal Size = (300, 168) \tResized into = (200, 200)\n",
      "\t14.jpg \tOriginal Size = (300, 168) \tResized into = (200, 200)\n",
      "\t15.jpg \tOriginal Size = (284, 177) \tResized into = (200, 200)\n",
      "\t16.jpg \tOriginal Size = (276, 182) \tResized into = (200, 200)\n",
      "\t17.jpg \tOriginal Size = (225, 225) \tResized into = (200, 200)\n",
      "\t18.jpg \tOriginal Size = (300, 168) \tResized into = (200, 200)\n",
      "\t19.jpg \tOriginal Size = (284, 177) \tResized into = (200, 200)\n",
      "\t2.jpg \tOriginal Size = (299, 168) \tResized into = (200, 200)\n",
      "\t20.jpg \tOriginal Size = (300, 168) \tResized into = (200, 200)\n",
      "\t3.jpg \tOriginal Size = (300, 168) \tResized into = (200, 200)\n",
      "\t4.jpg \tOriginal Size = (284, 177) \tResized into = (200, 200)\n",
      "\t5.jpg \tOriginal Size = (284, 177) \tResized into = (200, 200)\n",
      "\t6.jpg \tOriginal Size = (259, 194) \tResized into = (200, 200)\n",
      "\t7.jpg \tOriginal Size = (312, 162) \tResized into = (200, 200)\n",
      "\t8.jpg \tOriginal Size = (275, 183) \tResized into = (200, 200)\n",
      "\t9.jpg \tOriginal Size = (168, 300) \tResized into = (200, 200)\n"
     ]
    }
   ],
   "source": [
    "for filename in fileList:\n",
    "    print(f'\\t{filename}', end=' ')\n",
    "    im = Image.open(dirName+'\\\\'+filename)\n",
    "    print(f'\\tOriginal Size = {im.size}', end=' ')\n",
    "    im = im.resize((200,200), Image.ANTIALIAS)\n",
    "    print(f'\\tResized into = {im.size}')\n",
    "    arr[x] = np.array(im, dtype='int16')\n",
    "    x +=1"
   ]
  },
  {
   "cell_type": "code",
   "execution_count": 34,
   "metadata": {},
   "outputs": [
    {
     "data": {
      "text/plain": [
       "(200, 200, 3)"
      ]
     },
     "execution_count": 34,
     "metadata": {},
     "output_type": "execute_result"
    }
   ],
   "source": [
    "arr[0].shape"
   ]
  },
  {
   "cell_type": "code",
   "execution_count": null,
   "metadata": {},
   "outputs": [],
   "source": []
  }
 ],
 "metadata": {
  "kernelspec": {
   "display_name": "Python 3",
   "language": "python",
   "name": "python3"
  },
  "language_info": {
   "codemirror_mode": {
    "name": "ipython",
    "version": 3
   },
   "file_extension": ".py",
   "mimetype": "text/x-python",
   "name": "python",
   "nbconvert_exporter": "python",
   "pygments_lexer": "ipython3",
   "version": "3.7.3"
  }
 },
 "nbformat": 4,
 "nbformat_minor": 2
}
